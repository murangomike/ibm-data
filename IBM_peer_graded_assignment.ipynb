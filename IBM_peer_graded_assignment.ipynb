{
  "nbformat": 4,
  "nbformat_minor": 0,
  "metadata": {
    "colab": {
      "provenance": []
    },
    "kernelspec": {
      "name": "python3",
      "display_name": "Python 3"
    },
    "language_info": {
      "name": "python"
    }
  },
  "cells": [
    {
      "cell_type": "markdown",
      "source": [
        "# Peer-graded Assignment"
      ],
      "metadata": {
        "id": "Gtv68_cISCXh"
      }
    },
    {
      "cell_type": "markdown",
      "source": [
        "This is a peer graded assignment. I will be answering all exercise activities in an orderly basis."
      ],
      "metadata": {
        "id": "wdWrhsggSNvH"
      }
    },
    {
      "cell_type": "markdown",
      "source": [
        "**Data Science Languages**\n",
        "\n",
        "\n",
        "1.   Python\n",
        "2.   R-Programming\n",
        "3.   SQL\n",
        "\n",
        "\n",
        "\n"
      ],
      "metadata": {
        "id": "ASrQOFEsSZs1"
      }
    },
    {
      "cell_type": "markdown",
      "source": [
        "**Data Science Librabries**\n",
        "\n",
        "\n",
        "1.   Pandas\n",
        "2.   Numpy\n",
        "3.   Matplotlib\n",
        "4.   Seaborn\n",
        "5.   Scipy\n",
        "6.   Sklearn\n",
        "7.   Tensorflow\n",
        "8.   Keras\n",
        "9.   Pytorch\n",
        "\n",
        "\n",
        "\n"
      ],
      "metadata": {
        "id": "BegaFixOSqec"
      }
    },
    {
      "cell_type": "markdown",
      "source": [
        "**Data science tools**\n",
        "\n",
        "\n",
        "1.   Google Colab\n",
        "2.   R-studio\n",
        "3.   Visual Studio Code\n",
        "4.   Jupyter Notebooks\n",
        "5.   Jupyterlab\n",
        "\n"
      ],
      "metadata": {
        "id": "UQl_kw11TPNW"
      }
    },
    {
      "cell_type": "markdown",
      "source": [
        "**Arithmetic expression examples**\n",
        "\n",
        "Basic Addition:\n",
        "\n",
        "Expression: 3 + 5\n",
        "Explanation: Adds the numbers 3 and 5 together.\n",
        "Result: 8\n",
        "\n",
        "Subtraction:\n",
        "\n",
        "Expression: 10 - 4\n",
        "Explanation: Subtracts 4 from 10.\n",
        "Result: 6\n",
        "\n",
        "Multiplication:\n",
        "\n",
        "Expression: 7 * 6\n",
        "Explanation: Multiplies 7 by 6.\n",
        "Result: 42\n",
        "\n",
        "Division:\n",
        "\n",
        "Expression: 20 / 4\n",
        "Explanation: Divides 20 by 4.\n",
        "Result: 5\n",
        "\n",
        "Combined Operations:\n",
        "\n",
        "Expression: (8 + 2) * 5\n",
        "Explanation: Adds 8 and 2, then multiplies the result by 5.\n",
        "Result: 50\n",
        "\n",
        "Exponentiation:\n",
        "\n",
        "Expression: 2 ^ 3\n",
        "Explanation: Raises 2 to the power of 3.\n",
        "Result: 8\n",
        "\n",
        "Modulus Operation:\n",
        "\n",
        "Expression: 17 % 3\n",
        "Explanation: Finds the remainder when 17 is divided by 3.\n",
        "Result: 2"
      ],
      "metadata": {
        "id": "kpoGcaG3Tf2v"
      }
    },
    {
      "cell_type": "code",
      "source": [
        "#code cell to multiply and add numbers\n",
        "def multiplication (X, y):\n",
        "  result = X * y\n",
        "  return print (f\"{X} * {y} = {result}\")\n",
        "\n",
        "\n",
        "  #example\n",
        "multiplication (3,5)\n",
        "\n",
        "def addition (X, y):\n",
        "  addition_result = X + y\n",
        "  return print (f' {X} + {y} = {addition_result}')\n",
        "\n",
        "#example\n",
        "addition (10,4)"
      ],
      "metadata": {
        "colab": {
          "base_uri": "https://localhost:8080/"
        },
        "id": "U3fVqwqST0uL",
        "outputId": "9dfc18d2-c8fc-40be-e8fd-8769bfc3b095"
      },
      "execution_count": 10,
      "outputs": [
        {
          "output_type": "stream",
          "name": "stdout",
          "text": [
            "3 * 5 = 15\n",
            " 10 + 4 = 14\n"
          ]
        }
      ]
    },
    {
      "cell_type": "code",
      "source": [
        "#onvert minutes to hours\n",
        "\n",
        "def minutes_to_hours (minutes):\n",
        "  hours = minutes / 60\n",
        "  return print (f'{minutes} minutes is equal to {hours} hours')\n",
        "\n",
        "#example\n",
        "minutes_to_hours (60)"
      ],
      "metadata": {
        "colab": {
          "base_uri": "https://localhost:8080/"
        },
        "id": "WdNlbmqiUvyk",
        "outputId": "aaf7ffae-806d-4348-e8ea-f92c8573cd28"
      },
      "execution_count": 13,
      "outputs": [
        {
          "output_type": "stream",
          "name": "stdout",
          "text": [
            "60 minutes is equal to 1.0 hours\n"
          ]
        }
      ]
    },
    {
      "cell_type": "markdown",
      "source": [
        "**List of Objectives**\n",
        "1. Understand Data Science Fundamentals\n",
        "2. Develop Proficiency in Programming\n",
        "3. Master Data Visualization Techniques\n",
        "4. Apply Machine Learning Algorithms\n",
        "5. Utilize Data Wrangling and Cleaning Skills\n",
        "6. Work with Databases and Data Storage\n",
        "7. Understand Big Data Technologies\n",
        "8. Implement Data Science Projects\n",
        "9. Develop Critical Thinking and Problem-Solving Skills\n",
        "10. Stay Updated with Industry Trends"
      ],
      "metadata": {
        "id": "AJYgVRlQV_t-"
      }
    },
    {
      "cell_type": "markdown",
      "source": [
        "Author: MIKE NJERU MURANGO"
      ],
      "metadata": {
        "id": "Fy8dvJhQWHWm"
      }
    }
  ]
}